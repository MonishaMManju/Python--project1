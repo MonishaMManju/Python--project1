{
 "cells": [
  {
   "cell_type": "code",
   "execution_count": 1,
   "id": "b66f9f3b-398c-4ed7-8339-ac397fbf9e94",
   "metadata": {},
   "outputs": [],
   "source": [
    "from pymongo import MongoClient"
   ]
  },
  {
   "cell_type": "code",
   "execution_count": 2,
   "id": "1cb42d0a-b754-4ee1-b880-40f78a280a6a",
   "metadata": {},
   "outputs": [],
   "source": [
    "client = MongoClient('localhost',27017)"
   ]
  },
  {
   "cell_type": "code",
   "execution_count": 3,
   "id": "3519987c-51e0-400a-8ef3-88760f7e2a6b",
   "metadata": {},
   "outputs": [
    {
     "name": "stdout",
     "output_type": "stream",
     "text": [
      "id:1, Name:Monisha,email:monisha0477@gmail.com,age:23\n",
      "id:2, Name:Bhoomika,email:bhoomika123@gmail.com,age:24\n",
      "id:3, Name:Akash,email:akash345@gmail.com.com,age:22\n",
      "\n"
     ]
    }
   ],
   "source": [
    "file =open(\"PROJECT1.txt\",\"w+\")\n",
    "file.writelines([ 'id:1, Name:Monisha,email:monisha0477@gmail.com,age:23\\n'\n",
    "                 'id:2, Name:Bhoomika,email:bhoomika123@gmail.com,age:24\\n'\n",
    "                 'id:3, Name:Akash,email:akash345@gmail.com.com,age:22\\n'])\n",
    "file =open(\"PROJECT1.txt\",\"r\")\n",
    "print(file.read())\n",
    "file.close()"
   ]
  },
  {
   "cell_type": "code",
   "execution_count": 4,
   "id": "5ab380d7-0911-42b2-9fd7-123ed608417d",
   "metadata": {},
   "outputs": [],
   "source": [
    "db=client['Person']"
   ]
  },
  {
   "cell_type": "code",
   "execution_count": 5,
   "id": "81a58cc0-d7f7-4edf-a0be-952d5603a366",
   "metadata": {},
   "outputs": [
    {
     "name": "stdout",
     "output_type": "stream",
     "text": [
      "['Person', 'Persondetails', 'Retailshop', 'admin', 'config', 'local']\n"
     ]
    }
   ],
   "source": [
    "print(client.list_database_names())"
   ]
  },
  {
   "cell_type": "code",
   "execution_count": 6,
   "id": "ec2f1d39-8a2a-405c-8b85-b3834e0e2088",
   "metadata": {},
   "outputs": [],
   "source": [
    "pdetails = db['pdetails']"
   ]
  },
  {
   "cell_type": "code",
   "execution_count": 7,
   "id": "24f5235d-6416-4827-bf96-ccebd2ffab21",
   "metadata": {},
   "outputs": [
    {
     "name": "stdout",
     "output_type": "stream",
     "text": [
      "{'_id': ObjectId('619e6502ad9ecca951765514'), 'Details': 'id:1, Name:Monisha,email:monisha0477@gmail.com,age:23 '}\n",
      "{'_id': ObjectId('619e6502ad9ecca951765515'), 'Details': 'id:2, Name:Bhoomika,email:bhoomika123@gmail.com,age:24'}\n",
      "{'_id': ObjectId('619e6502ad9ecca951765516'), 'Details': 'id:3, Name:Akash,email:akash345@gmail.com.com,age:22'}\n",
      "{'_id': ObjectId('619e6502ad9ecca951765517'), 'Details': ''}\n"
     ]
    }
   ],
   "source": [
    "for data in pdetails.find():\n",
    "    print(data)"
   ]
  },
  {
   "cell_type": "code",
   "execution_count": 8,
   "id": "bbf484c1-9fc5-4b1d-a053-a96161fa8c67",
   "metadata": {},
   "outputs": [
    {
     "data": {
      "text/plain": [
       "'var file = cat(\\'/MONISHA/PYTHON/ass/PROJECT1.txt\\'); \\n\\nvar data = file.split(\\'\\n\\'); \\nfor (var j= 0, k=data.length;j<k;j++)\\n{\\n    for (var i = 0, l = data.length; i < l; i++)\\n    {\\n        db.pdetails.insert({\"Details\":data[i]})\\n    }\\n}'"
      ]
     },
     "execution_count": 8,
     "metadata": {},
     "output_type": "execute_result"
    }
   ],
   "source": [
    "# code to insert data to mongodb from file\n",
    "'''var file = cat('/MONISHA/PYTHON/ass/PROJECT1.txt'); \n",
    "\n",
    "var data = file.split('\\n'); \n",
    "for (var j= 0, k=data.length;j<k;j++)\n",
    "{\n",
    "    for (var i = 0, l = data.length; i < l; i++)\n",
    "    {\n",
    "        db.pdetails.insert({\"Details\":data[i]})\n",
    "    }\n",
    "}'''"
   ]
  },
  {
   "cell_type": "code",
   "execution_count": null,
   "id": "eeb0038f-7747-418e-a94b-8da08a45c253",
   "metadata": {},
   "outputs": [],
   "source": []
  },
  {
   "cell_type": "code",
   "execution_count": null,
   "id": "91fd0f57-f3fb-4b44-86c8-95ac9413a36b",
   "metadata": {},
   "outputs": [],
   "source": []
  }
 ],
 "metadata": {
  "kernelspec": {
   "display_name": "Python 3 (ipykernel)",
   "language": "python",
   "name": "python3"
  },
  "language_info": {
   "codemirror_mode": {
    "name": "ipython",
    "version": 3
   },
   "file_extension": ".py",
   "mimetype": "text/x-python",
   "name": "python",
   "nbconvert_exporter": "python",
   "pygments_lexer": "ipython3",
   "version": "3.8.10"
  }
 },
 "nbformat": 4,
 "nbformat_minor": 5
}
