{
 "cells": [
  {
   "cell_type": "code",
   "execution_count": 10,
   "id": "b66f9f3b-398c-4ed7-8339-ac397fbf9e94",
   "metadata": {},
   "outputs": [],
   "source": [
    "from pymongo import MongoClient"
   ]
  },
  {
   "cell_type": "code",
   "execution_count": 11,
   "id": "1cb42d0a-b754-4ee1-b880-40f78a280a6a",
   "metadata": {},
   "outputs": [],
   "source": [
    "client = MongoClient('localhost',27017)"
   ]
  },
  {
   "cell_type": "code",
   "execution_count": 12,
   "id": "3519987c-51e0-400a-8ef3-88760f7e2a6b",
   "metadata": {},
   "outputs": [
    {
     "name": "stdout",
     "output_type": "stream",
     "text": [
      "id:1,Name:Monisha,email:monisha0477@gmail.com,age:23\n",
      "id:2,Name:Bhoomika,email:bhoomika123@gmail.com,age:24\n",
      "id:3,Name:Akash,email:akash345@gmail.com.com,age:22\n",
      "\n"
     ]
    }
   ],
   "source": [
    "file =open(\"PROJECT1.txt\",\"w+\")\n",
    "file.writelines([ 'id:1,Name:Monisha,email:monisha0477@gmail.com,age:23\\n'\n",
    "                 'id:2,Name:Bhoomika,email:bhoomika123@gmail.com,age:24\\n'\n",
    "                 'id:3,Name:Akash,email:akash345@gmail.com.com,age:22\\n'])\n",
    "file =open(\"PROJECT1.txt\",\"r\")\n",
    "print(file.read())\n",
    "file.close()"
   ]
  },
  {
   "cell_type": "code",
   "execution_count": 13,
   "id": "5ab380d7-0911-42b2-9fd7-123ed608417d",
   "metadata": {},
   "outputs": [],
   "source": [
    "db=client['project2']"
   ]
  },
  {
   "cell_type": "code",
   "execution_count": 14,
   "id": "81a58cc0-d7f7-4edf-a0be-952d5603a366",
   "metadata": {},
   "outputs": [
    {
     "name": "stdout",
     "output_type": "stream",
     "text": [
      "['Person', 'Persondetails', 'Retailshop', 'admin', 'config', 'local', 'project2']\n"
     ]
    }
   ],
   "source": [
    "print(client.list_database_names())"
   ]
  },
  {
   "cell_type": "code",
   "execution_count": 15,
   "id": "bc5db0c7-9a19-47a7-a6b1-598164b157e0",
   "metadata": {},
   "outputs": [],
   "source": [
    "collection = db['persondetails']"
   ]
  },
  {
   "cell_type": "code",
   "execution_count": 16,
   "id": "3303209e-2319-48da-9cda-27b34052dde0",
   "metadata": {},
   "outputs": [
    {
     "name": "stdout",
     "output_type": "stream",
     "text": [
      "['id:1,Name:Monisha,email:monisha0477@gmail.com,age:23']\n",
      "['id:2,Name:Bhoomika,email:bhoomika123@gmail.com,age:24']\n",
      "['id:3,Name:Akash,email:akash345@gmail.com.com,age:22']\n"
     ]
    }
   ],
   "source": [
    "with open(\"PROJECT1.txt\", \"r\") as file:\n",
    "    data = file.readlines()\n",
    "    for line in data:\n",
    "        word = line.split()\n",
    "        doc1={\"details\":word}\n",
    "        #collection.insert_one(doc1)\n",
    "        print (word)"
   ]
  },
  {
   "cell_type": "code",
   "execution_count": 17,
   "id": "67e2e0cd-c486-49d1-8968-06ca4c67663d",
   "metadata": {},
   "outputs": [
    {
     "name": "stdout",
     "output_type": "stream",
     "text": [
      "{'_id': ObjectId('61a4f5ad4c8b50e7bc54ff62'), 'details': ['id:1,Name:Monisha,email:monisha0477@gmail.com,age:23']}\n",
      "{'_id': ObjectId('61a4f5ae4c8b50e7bc54ff63'), 'details': ['id:2,Name:Bhoomika,email:bhoomika123@gmail.com,age:24']}\n",
      "{'_id': ObjectId('61a4f5ae4c8b50e7bc54ff64'), 'details': ['id:3,Name:Akash,email:akash345@gmail.com.com,age:22']}\n"
     ]
    }
   ],
   "source": [
    "for data in collection.find():\n",
    "    print(data)"
   ]
  },
  {
   "cell_type": "code",
   "execution_count": 18,
   "id": "329c4260-acea-4e35-a81e-8ae3511b2a42",
   "metadata": {},
   "outputs": [],
   "source": [
    "file.close()"
   ]
  },
  {
   "cell_type": "code",
   "execution_count": null,
   "id": "fc6268e0-5dec-4784-aaac-1519845eb7b5",
   "metadata": {},
   "outputs": [],
   "source": []
  }
 ],
 "metadata": {
  "kernelspec": {
   "display_name": "Python 3 (ipykernel)",
   "language": "python",
   "name": "python3"
  },
  "language_info": {
   "codemirror_mode": {
    "name": "ipython",
    "version": 3
   },
   "file_extension": ".py",
   "mimetype": "text/x-python",
   "name": "python",
   "nbconvert_exporter": "python",
   "pygments_lexer": "ipython3",
   "version": "3.8.10"
  }
 },
 "nbformat": 4,
 "nbformat_minor": 5
}
