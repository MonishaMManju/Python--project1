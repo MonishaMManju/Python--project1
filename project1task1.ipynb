{
 "cells": [
  {
   "cell_type": "code",
   "execution_count": 1,
   "id": "ddb17bfa-2ccd-4917-8442-f23410599556",
   "metadata": {},
   "outputs": [
    {
     "name": "stdout",
     "output_type": "stream",
     "text": [
      "Name:Monisha\n",
      "ADDRESS:#1619 \n",
      "  \t 5th cross out house \n",
      " \t Hoskeri \n",
      " \t K R Mohalla \n",
      " \t Mysuru\n",
      "EMAIL:monisha0477@gmail.com\n",
      "PHONE:9743613484\n"
     ]
    }
   ],
   "source": [
    "file =open(\"PROJECT.txt\",\"w+\")\n",
    "file.writelines(['Name:Monisha\\n'\n",
    "                 'ADDRESS:#1619 \\n  \\t 5th cross out house \\n \\t Hoskeri \\n \\t K R Mohalla \\n \\t Mysuru\\n'\n",
    "                'EMAIL:monisha0477@gmail.com\\n'\n",
    "                'PHONE:9743613484'])\n",
    "file =open(\"PROJECT.txt\",\"r\")\n",
    "print(file.read())\n",
    "file.close()"
   ]
  },
  {
   "cell_type": "code",
   "execution_count": 2,
   "id": "0a3983cd-dcb2-43d3-86b9-3aaa79d9427f",
   "metadata": {},
   "outputs": [
    {
     "data": {
      "text/plain": [
       "(221, b'2.0.0 closing connection rm1sm1205601pjb.3 - gsmtp')"
      ]
     },
     "execution_count": 2,
     "metadata": {},
     "output_type": "execute_result"
    }
   ],
   "source": [
    "import smtplib\n",
    "conn = smtplib.SMTP_SSL('smtp.gmail.com',465)\n",
    "conn.login(\"monisha0477@gmail.com\",\"Monisha!2698\")\n",
    "conn.sendmail(\"monisha0477@gmail.com\",\"monisha0477@gmail.com\",\"PROJECT.txt\")\n",
    "conn.quit()\n"
   ]
  },
  {
   "cell_type": "code",
   "execution_count": 13,
   "id": "742f9b2b-d826-4fb5-862c-40236ff2f9cb",
   "metadata": {},
   "outputs": [],
   "source": []
  },
  {
   "cell_type": "code",
   "execution_count": null,
   "id": "e19cf8fc-54b4-4e48-b63f-3168662e353b",
   "metadata": {},
   "outputs": [],
   "source": []
  }
 ],
 "metadata": {
  "kernelspec": {
   "display_name": "Python 3 (ipykernel)",
   "language": "python",
   "name": "python3"
  },
  "language_info": {
   "codemirror_mode": {
    "name": "ipython",
    "version": 3
   },
   "file_extension": ".py",
   "mimetype": "text/x-python",
   "name": "python",
   "nbconvert_exporter": "python",
   "pygments_lexer": "ipython3",
   "version": "3.8.10"
  }
 },
 "nbformat": 4,
 "nbformat_minor": 5
}
