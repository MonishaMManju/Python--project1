{
 "cells": [
  {
   "cell_type": "code",
   "execution_count": 4,
   "id": "ddb17bfa-2ccd-4917-8442-f23410599556",
   "metadata": {},
   "outputs": [
    {
     "name": "stdout",
     "output_type": "stream",
     "text": [
      "Name:Monisha\n",
      "ADDRESS:#1619 \n",
      "  \t 5th cross out house \n",
      " \t Hoskeri \n",
      " \t K R Mohalla \n",
      " \t Mysuru\n",
      "EMAIL:monisha0477@gmail.com\n",
      "\n"
     ]
    }
   ],
   "source": [
    "file =open(\"PROJECT.txt\",\"w+\")\n",
    "file.writelines(['Name:Monisha\\n'\n",
    "                 'ADDRESS:#1619 \\n  \\t 5th cross out house \\n \\t Hoskeri \\n \\t K R Mohalla \\n \\t Mysuru\\n'\n",
    "                'EMAIL:monisha0477@gmail.com\\n'])\n",
    "file =open(\"PROJECT.txt\",\"r\")\n",
    "x=print(file.read())\n",
    "file.close()"
   ]
  },
  {
   "cell_type": "code",
   "execution_count": 6,
   "id": "742f9b2b-d826-4fb5-862c-40236ff2f9cb",
   "metadata": {},
   "outputs": [
    {
     "data": {
      "text/plain": [
       "(221, b'2.0.0 closing connection z10sm12384855pfh.188 - gsmtp')"
      ]
     },
     "execution_count": 6,
     "metadata": {},
     "output_type": "execute_result"
    }
   ],
   "source": [
    "import smtplib\n",
    "from email.mime.multipart import MIMEMultipart\n",
    "from email.mime.text import MIMEText\n",
    "from email.mime.base import MIMEBase\n",
    "from email import encoders\n",
    "   \n",
    "fromaddr = \"monisha0477@gmail.com\"\n",
    "toaddr = \"monisha0477@gmail.com\"\n",
    "   \n",
    "msg = MIMEMultipart()\n",
    "  \n",
    "msg['From'] = fromaddr\n",
    "\n",
    "msg['To'] = toaddr\n",
    "  \n",
    "msg['Subject'] = \"person details\"\n",
    "  \n",
    "\n",
    "body = \"Hello\"\n",
    "  \n",
    "\n",
    "msg.attach(MIMEText(body, 'plain'))\n",
    "  \n",
    "filename = \"PROJECT.txt\"\n",
    "attachment = open(\"D:\\MONISHA\\PYTHON\\project1\\PROJECT.txt\", \"rb\")\n",
    "  \n",
    "a = MIMEBase('application', 'octet-stream')\n",
    "  \n",
    "\n",
    "a.set_payload((attachment).read())\n",
    "  \n",
    "encoders.encode_base64(a)\n",
    "   \n",
    "a.add_header('Content-Disposition', \"attachment; filename= %s\" % filename)\n",
    "  \n",
    "\n",
    "msg.attach(a)\n",
    "  \n",
    "\n",
    "s = smtplib.SMTP('smtp.gmail.com', 587)\n",
    "  \n",
    "\n",
    "s.starttls()\n",
    "  \n",
    "\n",
    "s.login(fromaddr, \"Monisha!2698\")\n",
    "  \n",
    "\n",
    "text = msg.as_string()\n",
    "  \n",
    "\n",
    "s.sendmail(fromaddr, toaddr, text)\n",
    "  \n",
    "\n",
    "s.quit()\n"
   ]
  },
  {
   "cell_type": "code",
   "execution_count": null,
   "id": "e19cf8fc-54b4-4e48-b63f-3168662e353b",
   "metadata": {},
   "outputs": [],
   "source": []
  }
 ],
 "metadata": {
  "kernelspec": {
   "display_name": "Python 3 (ipykernel)",
   "language": "python",
   "name": "python3"
  },
  "language_info": {
   "codemirror_mode": {
    "name": "ipython",
    "version": 3
   },
   "file_extension": ".py",
   "mimetype": "text/x-python",
   "name": "python",
   "nbconvert_exporter": "python",
   "pygments_lexer": "ipython3",
   "version": "3.8.10"
  }
 },
 "nbformat": 4,
 "nbformat_minor": 5
}
